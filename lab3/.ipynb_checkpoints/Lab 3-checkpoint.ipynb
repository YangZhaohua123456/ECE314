{
 "cells": [
  {
   "cell_type": "markdown",
   "metadata": {},
   "source": [
    "# Lab 3: Some more Python, Bernoulli processes, Poisson distribution"
   ]
  },
  {
   "cell_type": "markdown",
   "metadata": {},
   "source": [
    "Like the previous lab, we want to put all of our imported packages towards the top of the lab in a cell that's easy to run as needed. This way we have access to all the methods we need right from the start."
   ]
  },
  {
   "cell_type": "code",
   "execution_count": null,
   "metadata": {},
   "outputs": [],
   "source": [
    "%matplotlib inline\n",
    "import matplotlib.pyplot as plt\n",
    "import matplotlib.image as img\n",
    "import numpy as np\n",
    "import scipy as sp\n",
    "import scipy.stats as st\n",
    "import pickle as pkl\n",
    "import csv as csv\n",
    "print (\"Modules Imported!\")"
   ]
  },
  {
   "cell_type": "markdown",
   "metadata": {},
   "source": [
    "## Some More on Python:"
   ]
  },
  {
   "cell_type": "markdown",
   "metadata": {},
   "source": [
    "#### Dictionaries and Classes:"
   ]
  },
  {
   "cell_type": "markdown",
   "metadata": {},
   "source": [
    "In the first lab we learned about lists, arrays, and tuples. There is yet another sort of grouping of terms and that is a dictionary. It is denoted with curly brackets { } instead of parenthesis ( ) for tuples and brackets [ ] for lists. It is like a list or array but instead of being indexed by the integers 0,1,2,3,4..., a dictionary has a key followed by a value colon followed by a value. So that each value is associated to a given key. Below is a dictionary that has the names of fast food chains as the keys, and the ratings out of 10 as the values."
   ]
  },
  {
   "cell_type": "code",
   "execution_count": null,
   "metadata": {},
   "outputs": [],
   "source": [
    "Rating = {'Burger King': 4, 'Five Guys':7, 'Chipotle':6, 'Panda Express':5, 'Subway':4} #Creates a dictionary\n",
    "print (Rating.keys()) #Returns an array of the keys\n",
    "print (Rating['Burger King']) #Returns the value associated with the key 'Burger King'"
   ]
  },
  {
   "cell_type": "markdown",
   "metadata": {},
   "source": [
    "There should be two questions that come to your mind when first using the dictionary: What happens if we try to retrieve a value from a key that is not in the dictionary? What happens if the same key appears in the dictionary twice? In response to the first question, if there is no key, python will throw an error. Thus, it is always good to check whether the key is in the dictionary before trying to retrieve a value. "
   ]
  },
  {
   "cell_type": "code",
   "execution_count": null,
   "metadata": {},
   "outputs": [],
   "source": [
    "Rating = {'Burger King': 4, 'Five Guys':7, 'Chipotle':6, 'Panda Express':5, 'Subway':4} #Creates a dictionary\n",
    "for i in ['Burger King', 'Five Guys', 'Chick-Fil-A'] :   \n",
    "    print (i,Rating[i]) #Will give an error since 'Chick-Fil-A is not an actual key"
   ]
  },
  {
   "cell_type": "code",
   "execution_count": null,
   "metadata": {},
   "outputs": [],
   "source": [
    "Rating = {'Burger King': 4, 'Five Guys':7, 'Chipotle':6, 'Panda Express':5, 'Subway':4} #Creates a dictionary\n",
    "for i in ['Burger King', 'Five Guys', 'Chick-Fil-A'] :   \n",
    "    if i in Rating: #First checks if i is a key in the dictionary  \n",
    "        print (i,Rating[i])"
   ]
  },
  {
   "cell_type": "markdown",
   "metadata": {},
   "source": [
    "In response to the second question, when we try it below, we find that it takes on the most recent value given to the keyword."
   ]
  },
  {
   "cell_type": "code",
   "execution_count": null,
   "metadata": {},
   "outputs": [],
   "source": [
    "Rating = {'Burger King': 4, 'Five Guys':7, 'Chipotle':6, 'Panda Express':5, 'Subway':4, 'Chipotle': 9} #Creates a dictionary\n",
    "print (Rating.keys())\n",
    "print ([Rating[i] for i in Rating.keys()])\n",
    "print (Rating)"
   ]
  },
  {
   "cell_type": "markdown",
   "metadata": {},
   "source": [
    "We can declare classes in python similarly to that of JAVA. We use the keyword \"class\" followed by the name of the class and then a colon. Tab indentation remains the same as before so that anything included within the tab of the class is contained within the class. We can include class variables or use the \"def\" keyword to create class functions. Below is an example of a class."
   ]
  },
  {
   "cell_type": "code",
   "execution_count": null,
   "metadata": {},
   "outputs": [],
   "source": [
    "class Student:\n",
    "    def __init__(self, name, ID):\n",
    "        self.n = name\n",
    "        self.i = ID\n",
    "    def getName(self):\n",
    "        return self.n\n",
    "    def getID(self):\n",
    "        return self.i"
   ]
  },
  {
   "cell_type": "markdown",
   "metadata": {},
   "source": [
    "The above code is just an example and won't return anything, but make sure you run it anyway. Like the modules that we imported, if we create a custom class and run it once, then all the other cells in our Python notebook will have access to it. There are a few things that should have stood out to you in the code we just ran. The first is the \"__init__\" function. It is a version of a constructor method common to object oriented programming languages such as Java, and is what you would use to declare a new instance of your class. Second is the \"self\" keyword that appears in all of the methods. In order to have access to methods and variables within the class itself, you need to reference the class by using the keyword \"self\". It's kind of like the \"this\" keyword in JAVA, but is more explicitly expressed here. Finally, the \"__init__\" function indicates that in our class we pass two parameters (other than self) which will become instance variables for the instances of the class that we will create.  The code below creates an instance of the Student class."
   ]
  },
  {
   "cell_type": "code",
   "execution_count": null,
   "metadata": {},
   "outputs": [],
   "source": [
    "s = Student(\"Kevin\", \"4123\")\n",
    "print (s.getName())\n",
    "print (s.getID())\n",
    "print (s.n) \n",
    "print (s.i)"
   ]
  },
  {
   "cell_type": "markdown",
   "metadata": {},
   "source": [
    "Notice how the instance variables we created were not in fact private, so our get methods are not needed (other than to illustrate how things work, of course)."
   ]
  },
  {
   "cell_type": "markdown",
   "metadata": {},
   "source": [
    "#### Reading and Writing Files"
   ]
  },
  {
   "cell_type": "markdown",
   "metadata": {},
   "source": [
    "It is very useful to know how to read and write files in python. So below we will go over some of the basics with I/O. When loading and saving files you can specify the entire filepath, but it is probably much easier to keep the files coordinating to each lab in the same folder and just use relative filepaths. We can write to a text file very easily using the code below. If you were to look in the folder where this ipython notebook file is held, you would see the file below."
   ]
  },
  {
   "cell_type": "code",
   "execution_count": null,
   "metadata": {},
   "outputs": [],
   "source": [
    "#Writes a simple statement to a text file\n",
    "filepath = 'lab3_simple.txt'\n",
    "f = open(filepath, 'w') #Opens file. 'w' signifies we want to write to it.  \n",
    "                        #'w' erases existing file; use 'a' to append to an existing file\n",
    "f.write('This is a simple example') #Writes to the text file\n",
    "f.close()\n",
    "print ('The file has been written')"
   ]
  },
  {
   "cell_type": "markdown",
   "metadata": {},
   "source": [
    "Likewise we can load the text file back using the following:"
   ]
  },
  {
   "cell_type": "code",
   "execution_count": null,
   "metadata": {},
   "outputs": [],
   "source": [
    "filepath = 'lab3_simple.txt' \n",
    "f = open(filepath) #Opens the file, default behavior is to read (not write)\n",
    "print (f.read()) #Reads the text file\n",
    "f.close()"
   ]
  },
  {
   "cell_type": "markdown",
   "metadata": {},
   "source": [
    "This is fairly easy yet, since it's a text file everything we store in it needs to be a string. This becomes a bit of a pain if we would want to store things like a dictionary that describes a random variable. This has a mix of strings, floats, and possibly\n",
    " others. While it's easy to get the string of each of these and save them in a text file, it's much harder to load back and then parse through to convert everything into the variables we want. Instead we can use the Python Pickle module. Let's use it to save the dictionary we created above."
   ]
  },
  {
   "cell_type": "code",
   "execution_count": null,
   "metadata": {},
   "outputs": [],
   "source": [
    "grades = {'Bart':75, 'Lisa':98, 'Milhouse':80, 'Nelson':65}\n",
    "\n",
    "import pickle              # import module first\n",
    "\n",
    "f = open('gradesdict.pkl', 'wb')   # Pickle file is newly created where foo1.py is\n",
    "pickle.dump(grades, f)          # dump data to f\n",
    "f.close()   "
   ]
  },
  {
   "cell_type": "code",
   "execution_count": null,
   "metadata": {},
   "outputs": [],
   "source": [
    "filepath = 'lab3_dictionary.pkl'\n",
    "d = {'one':(1./6,-1),'two':(1./6,5),'three':(1./6,-5),'four':(1./6,1),'five':(1./6,-5),'six':(1./6,1)}\n",
    "f = open(filepath,'wb')    # The 'wb' is for openning file to be written to in binary mode\n",
    "pkl.dump(d,f)\n",
    "f.close()\n",
    "print ('The file has been written')"
   ]
  },
  {
   "cell_type": "markdown",
   "metadata": {},
   "source": [
    "Now you should see a .pkl file in the same folder which represents our dictionary. It's a bit less conveniant than a text file however, because it's not exactly readable by an outside program. However, we can load it back and manipulate our dictionary just as before. (Note: Due to the way files are written using pickel, a pickel file written using a Windows computer will be hard to open with a computer using Linux and vice versa)"
   ]
  },
  {
   "cell_type": "code",
   "execution_count": null,
   "metadata": {},
   "outputs": [],
   "source": [
    "filepath = 'lab3_dictionary.pkl'\n",
    "f = open(filepath, 'rb')  # The 'rb' is for openning file to be read in binary mode\n",
    "d = pkl.load(f)\n",
    "f.close()\n",
    "print (d['one'])\n",
    "print (d['five'][1])"
   ]
  },
  {
   "cell_type": "markdown",
   "metadata": {},
   "source": [
    "It would be nice if we could load in files from csv formats to be able to manipulate them. This can be done through the \"csv\" module. Along with this lab notebook, there should also be a csv file called SacramentoCrime. This is just a random set of data I found on the internet but is fine for our purposes. It has over 7000 crime logs and each one of those logs has 9 different bits of information. We can load the data in and manipulate it with the following."
   ]
  },
  {
   "cell_type": "code",
   "execution_count": null,
   "metadata": {},
   "outputs": [],
   "source": [
    "filepath = 'SacramentoCrime.csv'\n",
    "data = [] #Creates an empty list\n",
    "f = open(filepath) #Opens the file path in the default 'r' mode\n",
    "reader = csv.reader(f)\n",
    "for row in reader:\n",
    "    data.append(row)\n",
    "f.close()    # data is now a list of lists\n",
    "data = np.array(data) #Converts our list to a numpy array to make it a little easier to work with\n",
    "print ('Data size:', np.size(data), ', Data shape:', np.shape(data),'\\n')\n",
    "print ('The following is the list of headers:')\n",
    "print (data[0],'\\n')\n",
    "print ('The following is some random data corresponding to the headers')\n",
    "print (data[77])\n",
    "\n",
    "N_row = np.shape(data)[0]  # the number of rows in the data matrix\n",
    "\n",
    "x = [float(a) for a in data[1:N_row, 8]]  # Loads column 8 of data (numbering begins at zero) into x\n",
    "y = [float(a) for a in data[1:N_row, 7]]  # Loads column 7 of data (numbering begins at zero) into y\n",
    "                                          # convert string to float fot plotting plot later\n",
    "plt.scatter(x,y, color = 'red', edgecolor = 'black')\n",
    "plt.title('Location of Crimes in Sacremento')\n",
    "plt.xlabel('Longitude')\n",
    "plt.ylabel('Latitude')\n",
    "plt.axis([-121.7,-121.2,38.4,38.7])"
   ]
  },
  {
   "cell_type": "markdown",
   "metadata": {},
   "source": [
    "Finally we can also load in image files. You should have a file along with this lab called SacramentoMap.png. Make sure that this is also in the same folder as the ipython notebook. We can load and plot the image with the following code. It should look similar to the outline given by our crime map."
   ]
  },
  {
   "cell_type": "code",
   "execution_count": null,
   "metadata": {},
   "outputs": [],
   "source": [
    "filepath = 'SacramentoMap.png'\n",
    "sac = img.imread(filepath)\n",
    "image = plt.imshow(sac)"
   ]
  },
  {
   "cell_type": "markdown",
   "metadata": {},
   "source": [
    "These were just the basics of file loading and saving. Depending on formatting and other issues, it may be necessary to dive into these modules a bit deeper to better suit your circumstances. However, this is a very good start to being able to use I/O."
   ]
  },
  {
   "cell_type": "markdown",
   "metadata": {},
   "source": [
    "#### The Lambda Keyword:"
   ]
  },
  {
   "cell_type": "markdown",
   "metadata": {},
   "source": [
    "Finally, I use it in one of the topics below so I figured it may be good to go over it first here. \"lambda\" is a reserved keyword in Python. This may frustrate you when trying to simulate a Poisson process or random variable because in the literature the parameter for a Poisson or exponential distribution is often lambda, $\\lambda$, but it's just the way it is. In python, you can pass functions the same as variables. You can set functions equal to variables. The keyword lambda signals the creation of an anonymous function (it's not bound to a name). It allows functions to be written in a single line and to be passed with relative ease. The best way to understand it is just to look at some examples. So here are a few."
   ]
  },
  {
   "cell_type": "code",
   "execution_count": null,
   "metadata": {},
   "outputs": [],
   "source": [
    "# Simple function as we would normally define it\n",
    "def f(x):\n",
    "    return x**3\n",
    "\n",
    "print (f(3))\n",
    "\n",
    "g = lambda x:x**3 #Same exact function using the lambda keyword\n",
    "print (g(3))"
   ]
  },
  {
   "cell_type": "code",
   "execution_count": null,
   "metadata": {},
   "outputs": [],
   "source": [
    "# Function that returns a value that is itself a function defined by lambda\n",
    "def f(n):\n",
    "    return lambda x:x**n\n",
    "\n",
    "g = f(3) #g is the function x^3\n",
    "h = f(2) #h is the function x^2\n",
    "print (g(3))\n",
    "print (h(3))"
   ]
  },
  {
   "cell_type": "code",
   "execution_count": null,
   "metadata": {},
   "outputs": [],
   "source": [
    "n = np.arange(20) #Creates a list from 0 to 19\n",
    "y = list(filter(lambda x:x%2==0,n)) #Filters n. In Python 3.x filter is an iterable object, so converted here to list\n",
    "print (y)"
   ]
  },
  {
   "cell_type": "markdown",
   "metadata": {},
   "source": [
    "Hopefully this gives you a basic idea of what the lambda function is and does. We will not use it very extensively in this lab, but it's still good to know and may come in handy."
   ]
  },
  {
   "cell_type": "markdown",
   "metadata": {},
   "source": [
    "## Bernoulli Processes:"
   ]
  },
  {
   "cell_type": "markdown",
   "metadata": {},
   "source": [
    "In the first lab, you were introduced to both the Bernoulli distribution and the binomial distribution. A *random process* is simply a collection of random variables indexed by time. A Bernoulli process is given by $X=(X_1,X_2, \\ldots)$ where $X_t \\sim Bernoulli(p)$ for each $t$ and the $X$'s are mutually independent. It is a sequence of Bernoulli RVs. We can calculate probabilities involving the process at multiple times fairly easily, e.g. $P\\{X_3=1,X_6=0,X_{11}=1,X_{13}=1\\}=p(1-p)pp=p^3(1-p)$. When considering a random process, it is helpful to visualize, or produce by computer simulation, a typical sample path.   A <I> sample path </I> of a random process is the deterministic function of time that results by performing the probability experiment for the underlying probability space, and selecting a realization, or variate, for each of the random variables invovled.   Generating a sample path of a random process by computer simulation is particularly simple in case the random variables of the process are mutually independent, such as for Bernoulli processes.  For such processes, variates of the individual random variables can be generated separately.  Below is a sample path of a Bernoulli process $X=(X_1,X_2, \\ldots)$ with p=1/7.  Run the code several times to see different sample paths."
   ]
  },
  {
   "cell_type": "code",
   "execution_count": null,
   "metadata": {},
   "outputs": [],
   "source": [
    "p = 1./7 #Probability\n",
    "T = 30 #Number of time steps\n",
    "X = []  #Creates a list for the values of the random variables\n",
    "for i in range(1,T+1):   #range(1,T+1) is the list of numbers 1 through T\n",
    "    X.append(st.bernoulli.rvs(p)) #Fills the list with Bernoulli(p) variates\n",
    "plt.plot(range(1,T+1),X, 'o')\n",
    "plt.title('Sample Path of Bernoulli process with p=1/7')\n",
    "plt.ylim((0,2))\n",
    "plt.ylabel('$X(\\omega)$') #You can use LaTex in the Python code\n",
    "plt.xlabel('Time')"
   ]
  },
  {
   "cell_type": "markdown",
   "metadata": {},
   "source": [
    "The same Bernoulli process can be described in four different ways.\n",
    "<html>\n",
    "    <body>\n",
    "        <ol>\n",
    "            <li>  Using $X=(X_1,X_2, \\ldots)$ as above.\n",
    "            <li>  Using $L=(L_1,L_2, \\ldots),$  where $L_i$ is the number of trials after the $i-1^{th}$ count up to and including the time of the $i^{th}$ count.\n",
    "            <li>  Using $S=(S_1,S_2, \\ldots),$  where $S_i$ is the time the $i^{th}$ count occurs.\n",
    "            <li>  Using $C = (C_1,C_2,\\ldots)$ where $C_t$ is the number of counts up to and including time $t$\n",
    "        </ol>\n",
    "    </body>\n",
    "</html>\n",
    "(A diagram of each of these representations can be found in your ECE 313 textbook section 2.6)\n",
    "\n",
    "For example, if \n",
    "\n",
    "$X = 0,1,0,1,0,0,1,1,1,0,1$, then \n",
    "\n",
    "$L = 2,2,3,1,1,2$\n",
    "\n",
    "$S = 2,4,7,8,9,11$\n",
    "\n",
    "$C = 0,1,1,2,2,2,3,4,5,5,6$.\n",
    "\n",
    "<br>**<SPAN style=\"BACKGROUND-COLOR: #C0C0C0\">Problem 1:</SPAN>** Write an expanded version of the code above to display the sample paths of $X,L,S,$ and $C$ all for the same\n",
    "realization of the experiment.  To do so, plot the sample paths of $X$ and $C$ up to time 30 as before, and print the\n",
    "first ten values of $L$ and of $S.$ You don't need to plot $L$ and $S.$  You may need to generate more than\n",
    "30 X values to determine the first ten values of $L$ and $S.$  To reiterate, your values of $L,S$ and $C$ should be determined by $X.$\n",
    "\n",
    "(If you just generate a large number of trials assuming it will produce at least 10 values of L and S, you may lose a few points. To prevent this way of generation, consider using a while loop.)"
   ]
  },
  {
   "cell_type": "code",
   "execution_count": null,
   "metadata": {},
   "outputs": [],
   "source": [
    "# Your code here"
   ]
  },
  {
   "cell_type": "markdown",
   "metadata": {},
   "source": [
    "**<SPAN style=\"BACKGROUND-COLOR: #C0C0C0\">End of Problem 1</SPAN>**"
   ]
  },
  {
   "cell_type": "markdown",
   "metadata": {},
   "source": [
    "The equivalent descriptions above suggest another method to simulate a Bernoulli random process.    Each $L_i$ has a geometric distribution with parameter $p,$ and the $L$'s are independent. The geometric distribution is given by its pmf: $p(i)=(1-p)^{i-1}p$ for $i\\geq 1.$ For example, the probability that the first count occurs on the third trial is $P\\{L_1=3\\}= P\\{X_1=0,X_2=0,X_3=1\\}=(1-p)(1-p)p=(1-p)^2p$ which we determined before.  \n",
    "\n",
    "<br>**<SPAN style=\"BACKGROUND-COLOR: #C0C0C0\">Problem 2:</SPAN>** Write new code for simulation of a Bernoulli random process by first generating $L=(L_1, \\cdots , L_{30})$ according to a geometric distribution and then generating\n",
    "$X,S,$ and $C$ from $L.$ Print all values in sequences $L$, $X$, $S$ and $C$. "
   ]
  },
  {
   "cell_type": "code",
   "execution_count": null,
   "metadata": {},
   "outputs": [],
   "source": [
    "# Your code here"
   ]
  },
  {
   "cell_type": "markdown",
   "metadata": {},
   "source": [
    "**<SPAN style=\"BACKGROUND-COLOR: #C0C0C0\">End of Problem 2</SPAN>**"
   ]
  },
  {
   "cell_type": "markdown",
   "metadata": {},
   "source": [
    "## Poisson distribution as limit of binomial distribution"
   ]
  },
  {
   "cell_type": "markdown",
   "metadata": {},
   "source": [
    "There is yet another important piece to this puzzle, and that is the Poisson distribution. The Poisson distribution has a single parameter $\\lambda$ and a probability mass function given by: $p(k) = \\frac{e^{-\\lambda}\\lambda^k}{k!}$ for $k\\geq 0.$ The parameter $\\lambda$ represents a mean such as the number of hits of a website in one minute, or the number of mispelled words in a document. Thus $p(k)$ represents the probability the number of events occuring is $k$ given that the average number events that occur is $\\lambda$. The Poisson distribution is frequently used because it is a good approximation for the binomial distribution when $n$ is large, $p$ is small, and $np \\approx \\lambda$.  It is simpler than the binomial; it only has one parameter and it doesn't involve binomial coefficients. Let's say you create a website and that your website gets on average of 1200 hits per day. This is set up as a Poisson distribution where $\\lambda = 1200$, but we can also model this as a binomial. If we were to break down the day into minute increments then the probability that a hit occurs in any given minute is $p = \\frac{1200}{24*60} = \\frac{5}{6}$ and there are $n = 24*60 = 1440$ minutes in a day. Below is a graph of this binomial approximation of the Poisson."
   ]
  },
  {
   "cell_type": "code",
   "execution_count": null,
   "metadata": {},
   "outputs": [],
   "source": [
    "lamb =1200 #Average number of hits per day\n",
    "n = 60*24. #Number of minutes in a day\n",
    "p = lamb/n #Probability of a hit occuring in a minute\n",
    "print ('p =', p)\n",
    "\n",
    "k = range(2*lamb)\n",
    "plt.plot(k,st.binom.pmf(k,n,p), 'b', label = 'Binomial')\n",
    "plt.plot(k,st.poisson.pmf(k,lamb), 'r', label = 'Poisson')\n",
    "plt.title('PMF of Hits Per Day')\n",
    "plt.legend()\n",
    "\n",
    "x = np.linspace(0,2*lamb,10000)\n",
    "plt.figure()\n",
    "plt.plot(x,st.binom.cdf(x,n,p), 'b', label = 'Binomial')\n",
    "plt.plot(x,st.poisson.cdf(x,lamb), 'r', label = 'Poisson')\n",
    "plt.ylim(0,1.2)\n",
    "plt.title('CDF of Hits Per Day')\n",
    "plt.legend()"
   ]
  },
  {
   "cell_type": "markdown",
   "metadata": {},
   "source": [
    "These two distributions don't really look that close to each other. Why is that? In order for this approximation to be accurate, we require that $n$ be large, $p$ be small, and $np \\approx \\lambda$. Here $n$ is fairly large but $p$ is not close to zero at all.  The variance of the Poisson(1200) distribution is 1200, while the variance of the Binom(1440,5/6) distribution is only 1440*(5/6)*(1/6)=200. Clearly, we haven't broken the day up into small enough increments.  So let's now break it up into seconds."
   ]
  },
  {
   "cell_type": "code",
   "execution_count": null,
   "metadata": {},
   "outputs": [],
   "source": [
    "lamb = 1200 #Average number of hits per day\n",
    "n = 60*60*24. #Number of seconds in a day\n",
    "p = lamb/n #Probability of a hit occuring in a minute\n",
    "print ('p =', p)\n",
    "\n",
    "X = st.binom(n,p)\n",
    "Y = st.poisson(lamb)\n",
    "\n",
    "k = range(2*lamb)\n",
    "plt.plot(k,X.pmf(k), 'b', label = 'Binomial')\n",
    "plt.plot(k,Y.pmf(k), 'r', label = 'Poisson')\n",
    "plt.title('PMF of Hits Per Day')\n",
    "plt.legend()\n",
    "\n",
    "x = np.linspace(0,2*lamb,10000)\n",
    "plt.figure()\n",
    "plt.plot(x,X.cdf(x), 'b', label = 'Binomial')\n",
    "plt.plot(x,Y.cdf(x), 'r', label = 'Poisson')\n",
    "plt.ylim(0,1.2)\n",
    "plt.title('CDF of Hits Per Day')\n",
    "plt.legend()"
   ]
  },
  {
   "cell_type": "markdown",
   "metadata": {},
   "source": [
    "Now our approximation is so close that the two distributions are almost indistinguishable from each other. If we kept increasing n and decreasing p we would find that the approximation continues to improve. So, symbolically, $\\lim_{n\\to \\infty, p\\to  0, np \\to \\lambda} Binom(n,p) = Pois(\\lambda).$  If you encounter a binomial variable with large $n$ and small $p,$ it may be easier to calculate probabilities based on the Poisson distribution."
   ]
  },
  {
   "cell_type": "markdown",
   "metadata": {},
   "source": [
    "**<SPAN style=\"BACKGROUND-COLOR: #C0C0C0\">Problem 3:</SPAN>** While working on this lab course, I have a probability of $p=.014$ of finishing a section during any given minute. Let's say that there are 300 sections that need to be completed and I have 8 weeks to create the lab (assume I work 40 hours/week). What's the probability that I complete the lab before the start of the semester? Equivalently what is the probability that I finish at least 300 sections? In order to answer this question, do the following:\n",
    "<html>\n",
    "    <body>\n",
    "        <ol>\n",
    "            <li> Create a binomial variable X to represent the number of sections I complete (for this and other parts of the\n",
    "            problem, assume I keep working at the same rate if I finish completing 300 sections).</li>\n",
    "            <li> Create a Poisson variable Y to represent the same number, using the Poisson approximation.\n",
    "            Make sure to print out what $\\lambda$ is.</li>\n",
    "            <li> Find the probability of my success (i.e. completing at least 300 sections) using the CDFs of each RV. Do they agree?</li>\n",
    "            <li> Find the probability that I finish exactly 300 sections using the pmf of each RV.  Do they agree? </li>\n",
    "        </ol>\n",
    "    </body>\n",
    "</html>"
   ]
  },
  {
   "cell_type": "code",
   "execution_count": null,
   "metadata": {},
   "outputs": [],
   "source": [
    "# Your code here"
   ]
  },
  {
   "cell_type": "markdown",
   "metadata": {},
   "source": [
    "__Answer:__ (Your answer here)"
   ]
  },
  {
   "cell_type": "markdown",
   "metadata": {},
   "source": [
    "**<SPAN style=\"BACKGROUND-COLOR: #C0C0C0\">End of Problem 3</SPAN>**"
   ]
  },
  {
   "cell_type": "markdown",
   "metadata": {},
   "source": [
    "<div class=\"alert alert-block alert-warning\"> \n",
    "## Academic Integrity Statement ##\n",
    "\n",
    "By submitting the lab with this statement, you declare you have written up the lab entirely by yourself, including both code and markdown cells. You also agree that you should not share your code with anyone else. Any violation of the academic integrity requirement may cause an academic integrity report to be filed that could go into your student record. See <a href=\"https://provost.illinois.edu/policies/policies/academic-integrity/students-quick-reference-guide-to-academic-integrity/\">Students' Quick Reference Guide to Academic Integrity</a> for more information. "
   ]
  }
 ],
 "metadata": {
  "anaconda-cloud": {},
  "kernelspec": {
   "display_name": "Python 3",
   "language": "python",
   "name": "python3"
  },
  "language_info": {
   "codemirror_mode": {
    "name": "ipython",
    "version": 3
   },
   "file_extension": ".py",
   "mimetype": "text/x-python",
   "name": "python",
   "nbconvert_exporter": "python",
   "pygments_lexer": "ipython3",
   "version": "3.7.6"
  }
 },
 "nbformat": 4,
 "nbformat_minor": 1
}
